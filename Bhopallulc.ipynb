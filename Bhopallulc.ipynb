{
  "nbformat": 4,
  "nbformat_minor": 0,
  "metadata": {
    "colab": {
      "provenance": [],
      "name": "Bhopallulc.ipynb",
      "authorship_tag": "ABX9TyOJSSAQNxcOFAqgZEPsl+3B",
      "include_colab_link": true
    },
    "kernelspec": {
      "name": "python3",
      "display_name": "Python 3"
    },
    "language_info": {
      "name": "python"
    }
  },
  "cells": [
    {
      "cell_type": "markdown",
      "metadata": {
        "id": "view-in-github",
        "colab_type": "text"
      },
      "source": [
        "<a href=\"https://colab.research.google.com/github/yagyeshgoyal/Bhopal-LULC/blob/main/Bhopallulc.ipynb\" target=\"_parent\"><img src=\"https://colab.research.google.com/assets/colab-badge.svg\" alt=\"Open In Colab\"/></a>"
      ]
    },
    {
      "cell_type": "code",
      "execution_count": 8,
      "metadata": {
        "id": "atK7jGsh5uuk"
      },
      "outputs": [],
      "source": [
        "import numpy as np"
      ]
    },
    {
      "cell_type": "code",
      "source": [
        "a = 1;\n",
        "b = 1;\n",
        "print(a+b);"
      ],
      "metadata": {
        "id": "ZCOl9f9z8E47",
        "colab": {
          "base_uri": "https://localhost:8080/"
        },
        "outputId": "54403b00-1a48-4165-f42b-09f12d8a7a8a"
      },
      "execution_count": 9,
      "outputs": [
        {
          "output_type": "stream",
          "name": "stdout",
          "text": [
            "2\n"
          ]
        }
      ]
    }
  ]
}